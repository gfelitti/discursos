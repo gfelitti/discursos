{
 "cells": [
  {
   "cell_type": "code",
   "execution_count": 1,
   "metadata": {
    "collapsed": false
   },
   "outputs": [
    {
     "name": "stderr",
     "output_type": "stream",
     "text": [
      "//anaconda/lib/python2.7/site-packages/matplotlib/font_manager.py:273: UserWarning: Matplotlib is building the font cache using fc-list. This may take a moment.\n",
      "  warnings.warn('Matplotlib is building the font cache using fc-list. This may take a moment.')\n"
     ]
    }
   ],
   "source": [
    "%matplotlib inline"
   ]
  },
  {
   "cell_type": "code",
   "execution_count": 2,
   "metadata": {
    "collapsed": true
   },
   "outputs": [],
   "source": [
    "import datetime\n",
    "import os\n",
    "\n",
    "import dateutil.parser as dparser\n",
    "\n",
    "import requests\n",
    "import pandas as pd\n",
    "from bs4 import BeautifulSoup\n",
    "\n",
    "import cPickle"
   ]
  },
  {
   "cell_type": "code",
   "execution_count": 3,
   "metadata": {
    "collapsed": false
   },
   "outputs": [],
   "source": [
    "import seaborn as sns\n",
    "sns.set_style('darkgrid')"
   ]
  },
  {
   "cell_type": "code",
   "execution_count": 4,
   "metadata": {
    "collapsed": false
   },
   "outputs": [
    {
     "data": {
      "text/plain": [
       "u'0.18.1'"
      ]
     },
     "execution_count": 4,
     "metadata": {},
     "output_type": "execute_result"
    }
   ],
   "source": [
    "pd.__version__"
   ]
  },
  {
   "cell_type": "code",
   "execution_count": null,
   "metadata": {
    "collapsed": true
   },
   "outputs": [],
   "source": []
  },
  {
   "cell_type": "code",
   "execution_count": 5,
   "metadata": {
    "collapsed": false
   },
   "outputs": [],
   "source": [
    "def pegar_links():\n",
    "\n",
    "    lista_links = []\n",
    "    for p in range(10):\n",
    "        pagina = p * 100\n",
    "        \n",
    "        url = \"http://www2.planalto.gov.br/acompanhe-o-planalto/discursos/discursos-da-presidenta/?b_start:int={0}\".format(pagina)\n",
    "        \n",
    "        r = requests.get(url)\n",
    "        content = BeautifulSoup(r.content)\n",
    "        links = content.find_all(\"a\", {'class': 'summary url'})\n",
    "        links = [l['href'] for l in links]\n",
    "        \n",
    "        lista_links.extend(links)\n",
    "        \n",
    "    return lista_links"
   ]
  },
  {
   "cell_type": "code",
   "execution_count": 6,
   "metadata": {
    "collapsed": false
   },
   "outputs": [
    {
     "name": "stderr",
     "output_type": "stream",
     "text": [
      "//anaconda/lib/python2.7/site-packages/bs4/__init__.py:166: UserWarning: No parser was explicitly specified, so I'm using the best available HTML parser for this system (\"lxml\"). This usually isn't a problem, but if you run this code on another system, or in a different virtual environment, it may use a different parser and behave differently.\n",
      "\n",
      "To get rid of this warning, change this:\n",
      "\n",
      " BeautifulSoup([your markup])\n",
      "\n",
      "to this:\n",
      "\n",
      " BeautifulSoup([your markup], \"lxml\")\n",
      "\n",
      "  markup_type=markup_type))\n"
     ]
    }
   ],
   "source": [
    "lista_links = pegar_links()"
   ]
  },
  {
   "cell_type": "code",
   "execution_count": 7,
   "metadata": {
    "collapsed": false
   },
   "outputs": [
    {
     "name": "stdout",
     "output_type": "stream",
     "text": [
      "Lendo arquivos de links do disco\n"
     ]
    }
   ],
   "source": [
    "if not os.path.exists('lista_links.pkl'):\n",
    "    print \"Arquivo com links não encontrado, baixando links\"\n",
    "    lista_links  = pegar_links()\n",
    "    \n",
    "    f = open('lista_links.pkl', 'wb')\n",
    "    cPickle.dump(lista_links, f, protocol=cPickle.HIGHEST_PROTOCOL)\n",
    "    f.close()\n",
    "else:\n",
    "    print \"Lendo arquivos de links do disco\"\n",
    "    f = open('lista_links.pkl', 'rb')\n",
    "    lista_links = cPickle.load(f)\n",
    "    f.close()\n",
    "    "
   ]
  },
  {
   "cell_type": "code",
   "execution_count": null,
   "metadata": {
    "collapsed": true
   },
   "outputs": [],
   "source": []
  },
  {
   "cell_type": "code",
   "execution_count": null,
   "metadata": {
    "collapsed": true
   },
   "outputs": [],
   "source": []
  },
  {
   "cell_type": "code",
   "execution_count": 8,
   "metadata": {
    "collapsed": false
   },
   "outputs": [],
   "source": [
    "def baixar_discurso(url):\n",
    "    try:\n",
    "        r = requests.get(url)\n",
    "\n",
    "        content = BeautifulSoup(r.content)\n",
    "\n",
    "        titulo = content.find(\"h1\", {\"class\": \"documentFirstHeading\"}).text\n",
    "        description = content.find(\"div\", {\"class\": \"description\"})\n",
    "        if description != None:\n",
    "            description = description.text\n",
    "        document_published = (content.find(\"span\", {\"class\": \"documentPublished\"}).text\n",
    "                              .strip().replace(\"publicado\", \"\").strip().replace(\",\", \"\"))\n",
    "        document_published = datetime.datetime.strptime(document_published, \"%d/%m/%Y %Hh%M\")\n",
    "\n",
    "        document_modified = content.find(\"span\", {\"class\": \"documentModified\"})\n",
    "        if document_modified != None:\n",
    "            document_modified = (document_modified.text.strip()\n",
    "                                 .replace(u\"última modificação\", \"\").strip().replace(\",\", \"\"))\n",
    "\n",
    "            document_modified = datetime.datetime.strptime(document_modified, \"%d/%m/%Y %Hh%M\")\n",
    "\n",
    "        texto = content.find(\"div\", {\"id\": \"parent-fieldname-text\"}).text\n",
    "\n",
    "        tags = content.find(\"div\", {\"id\": \"category\"})\n",
    "        if tags != None:\n",
    "            tags = [t.text for t in tags.find_all(\"a\")]\n",
    "        else:\n",
    "            tags = []\n",
    "\n",
    "        assuntos = content.find(\"div\", {\"id\": \"category-vcge\"})\n",
    "        if assuntos != None:\n",
    "            assuntos = [a.text for a in assuntos.find_all(\"a\")]\n",
    "        else:\n",
    "            assuntos = []\n",
    "        \n",
    "        d = {\n",
    "            'titulo': titulo,\n",
    "            'descricao': description,\n",
    "            'data_publicacao': document_published,\n",
    "            'data_modificacao': document_modified,\n",
    "            'texto': texto,\n",
    "            'tags': tags,\n",
    "            'assuntos': assuntos,\n",
    "            'url': url\n",
    "        }\n",
    "        return d\n",
    "    \n",
    "    except Exception as e:\n",
    "        print \"Erro ao baixar a url: {0}\".format(url)\n",
    "        print e\n",
    "        \n",
    "        return None"
   ]
  },
  {
   "cell_type": "code",
   "execution_count": null,
   "metadata": {
    "collapsed": true
   },
   "outputs": [],
   "source": []
  },
  {
   "cell_type": "code",
   "execution_count": 9,
   "metadata": {
    "collapsed": false
   },
   "outputs": [
    {
     "name": "stdout",
     "output_type": "stream",
     "text": [
      "Lendo arquivos de discursos do disco\n"
     ]
    }
   ],
   "source": [
    "\n",
    "if not os.path.exists('discursos.pkl'):\n",
    "    print \"Arquivo com discursos não encontrado, baixando discursos\"\n",
    "\n",
    "    discursos = []\n",
    "    for url in lista_links:\n",
    "        discurso = baixar_discurso(url)\n",
    "        if discurso != None:\n",
    "            discursos.append(discurso)\n",
    "\n",
    "    f = open('discursos.pkl', 'wb')\n",
    "    cPickle.dump(discursos, f, protocol=cPickle.HIGHEST_PROTOCOL)\n",
    "    f.close()\n",
    "else:\n",
    "    print \"Lendo arquivos de discursos do disco\"\n",
    "    f = open('discursos.pkl', 'rb')\n",
    "    discursos = cPickle.load(f)\n",
    "    f.close()\n",
    "    "
   ]
  },
  {
   "cell_type": "code",
   "execution_count": 10,
   "metadata": {
    "collapsed": false
   },
   "outputs": [
    {
     "data": {
      "text/plain": [
       "\"\\nErro ao baixar a url: http://www2.planalto.gov.br/acompanhe-o-planalto/discursos/discursos-da-presidenta/mensagem-ao-congresso-2012/view\\n'NoneType' object has no attribute 'text'\\nErro ao baixar a url: http://www2.planalto.gov.br/acompanhe-o-planalto/discursos/discursos-da-presidenta/speech-by-the-president-of-the-republic-dilma-rousseff-brazilian-national-congress-january-1st-2015\\ntime data ':\\n    06/01/2015 11h31' does not match format '%d/%m/%Y %Hh%M'\\nErro ao baixar a url: http://www2.planalto.gov.br/acompanhe-o-planalto/discursos/discursos-da-presidenta/discurso-de-la-presidenta-de-la-republica-dilma-rousseff-durante-el-compromiso-constitucional-ante-el-congreso-nacional-congreso-nacional-1deg-de-enero-de-2014\\ntime data ':\\n    06/01/2015 17h29' does not match format '%d/%m/%Y %Hh%M'\\nErro ao baixar a url: http://www2.planalto.gov.br/acompanhe-o-planalto/discursos/discursos-da-presidenta/address-by-the-president-of-the-federative-republic-of-brazil-during-the-3rd-celac-summit\\ntime data ':\\n    11/02/2015 18h35' does not match format '%d/%m/%Y %Hh%M'\\nErro ao baixar a url: http://www2.planalto.gov.br/acompanhe-o-planalto/discursos/discursos-da-presidenta/discurso-de-la-presidenta-de-la-republica-en-la-iii-cumbre-de-la-celac\\ntime data ':\\n    11/02/2015 18h38' does not match format '%d/%m/%Y %Hh%M'\\n\""
      ]
     },
     "execution_count": 10,
     "metadata": {},
     "output_type": "execute_result"
    }
   ],
   "source": [
    "\"\"\"\n",
    "Erro ao baixar a url: http://www2.planalto.gov.br/acompanhe-o-planalto/discursos/discursos-da-presidenta/mensagem-ao-congresso-2012/view\n",
    "'NoneType' object has no attribute 'text'\n",
    "Erro ao baixar a url: http://www2.planalto.gov.br/acompanhe-o-planalto/discursos/discursos-da-presidenta/speech-by-the-president-of-the-republic-dilma-rousseff-brazilian-national-congress-january-1st-2015\n",
    "time data ':\\n    06/01/2015 11h31' does not match format '%d/%m/%Y %Hh%M'\n",
    "Erro ao baixar a url: http://www2.planalto.gov.br/acompanhe-o-planalto/discursos/discursos-da-presidenta/discurso-de-la-presidenta-de-la-republica-dilma-rousseff-durante-el-compromiso-constitucional-ante-el-congreso-nacional-congreso-nacional-1deg-de-enero-de-2014\n",
    "time data ':\\n    06/01/2015 17h29' does not match format '%d/%m/%Y %Hh%M'\n",
    "Erro ao baixar a url: http://www2.planalto.gov.br/acompanhe-o-planalto/discursos/discursos-da-presidenta/address-by-the-president-of-the-federative-republic-of-brazil-during-the-3rd-celac-summit\n",
    "time data ':\\n    11/02/2015 18h35' does not match format '%d/%m/%Y %Hh%M'\n",
    "Erro ao baixar a url: http://www2.planalto.gov.br/acompanhe-o-planalto/discursos/discursos-da-presidenta/discurso-de-la-presidenta-de-la-republica-en-la-iii-cumbre-de-la-celac\n",
    "time data ':\\n    11/02/2015 18h38' does not match format '%d/%m/%Y %Hh%M'\n",
    "\"\"\""
   ]
  },
  {
   "cell_type": "code",
   "execution_count": 11,
   "metadata": {
    "collapsed": false
   },
   "outputs": [],
   "source": [
    "df = pd.DataFrame().from_records(discursos)"
   ]
  },
  {
   "cell_type": "code",
   "execution_count": 12,
   "metadata": {
    "collapsed": false
   },
   "outputs": [],
   "source": [
    "df = df.sort_values(by='data_publicacao')"
   ]
  },
  {
   "cell_type": "code",
   "execution_count": 13,
   "metadata": {
    "collapsed": true
   },
   "outputs": [],
   "source": [
    "df = df.set_index('data_publicacao')"
   ]
  },
  {
   "cell_type": "code",
   "execution_count": null,
   "metadata": {
    "collapsed": false
   },
   "outputs": [],
   "source": []
  },
  {
   "cell_type": "code",
   "execution_count": 14,
   "metadata": {
    "collapsed": false
   },
   "outputs": [],
   "source": [
    "def pegar_duracao(t):\n",
    "    tf = t[-60:]\n",
    "    prt_ini = tf.find(\"(\")\n",
    "    filtro_duracao = tf[tf.find(\"(\")+1:tf.find(\")\")].strip()\n",
    "    \n",
    "    if \"discurso\" in tf and prt_ini != -1:\n",
    "        filtro_duracao = filtro_duracao.replace(\"min\", \"m\")\n",
    "        if filtro_duracao == \"60m01s\":\n",
    "            filtro_duracao = \"1h1s\"\n",
    "        if filtro_duracao.strip() == \"\":\n",
    "            return None\n",
    "        return dparser.parse(filtro_duracao, fuzzy=True).time()\n",
    "    else:\n",
    "        return None"
   ]
  },
  {
   "cell_type": "code",
   "execution_count": 15,
   "metadata": {
    "collapsed": false
   },
   "outputs": [],
   "source": [
    "df['duracao'] = df.texto.apply(lambda x: pegar_duracao(x))"
   ]
  },
  {
   "cell_type": "code",
   "execution_count": 16,
   "metadata": {
    "collapsed": true
   },
   "outputs": [],
   "source": [
    "def pegar_ocorrencia(col, s):\n",
    "    return col.str.count(s)"
   ]
  }
 ],
 "metadata": {
  "kernelspec": {
   "display_name": "Python 2",
   "language": "python",
   "name": "python2"
  },
  "language_info": {
   "codemirror_mode": {
    "name": "ipython",
    "version": 2
   },
   "file_extension": ".py",
   "mimetype": "text/x-python",
   "name": "python",
   "nbconvert_exporter": "python",
   "pygments_lexer": "ipython2",
   "version": "2.7.11"
  }
 },
 "nbformat": 4,
 "nbformat_minor": 0
}
