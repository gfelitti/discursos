{
 "cells": [
  {
   "cell_type": "code",
   "execution_count": null,
   "metadata": {
    "collapsed": false
   },
   "outputs": [],
   "source": [
    "%matplotlib inline"
   ]
  },
  {
   "cell_type": "code",
   "execution_count": null,
   "metadata": {
    "collapsed": true
   },
   "outputs": [],
   "source": [
    "import datetime\n",
    "\n",
    "import requests\n",
    "import pandas as pd\n",
    "\n",
    "from bs4 import BeautifulSoup"
   ]
  },
  {
   "cell_type": "code",
   "execution_count": null,
   "metadata": {
    "collapsed": true
   },
   "outputs": [],
   "source": []
  },
  {
   "cell_type": "code",
   "execution_count": null,
   "metadata": {
    "collapsed": false
   },
   "outputs": [],
   "source": [
    "def pegar_links():\n",
    "    lista_links = []\n",
    "    for pagina in range(0, 1000, 100):\n",
    "        url = \"http://www2.planalto.gov.br/acompanhe-o-planalto/\"\\\n",
    "              \"discursos/discursos-da-presidenta/?b_start:int={0}\".format(pagina)\n",
    "        \n",
    "        r = requests.get(url)\n",
    "        content = BeautifulSoup(r.content, \"lxml\")\n",
    "        links = content.find_all(\"a\", {'class': 'summary url'})\n",
    "        links = [l['href'] for l in links]\n",
    "        \n",
    "        lista_links.extend(links)\n",
    "        \n",
    "    return lista_links"
   ]
  },
  {
   "cell_type": "code",
   "execution_count": null,
   "metadata": {
    "collapsed": false
   },
   "outputs": [],
   "source": [
    "lista_links = pegar_links()"
   ]
  },
  {
   "cell_type": "code",
   "execution_count": null,
   "metadata": {
    "collapsed": true
   },
   "outputs": [],
   "source": []
  },
  {
   "cell_type": "code",
   "execution_count": null,
   "metadata": {
    "collapsed": false
   },
   "outputs": [],
   "source": [
    "def baixar_discurso(url):\n",
    "    try:\n",
    "        r = requests.get(url)\n",
    "\n",
    "        content = BeautifulSoup(r.content, \"lxml\")\n",
    "\n",
    "        titulo = content.find(\"h1\", {\"class\": \"documentFirstHeading\"}).text\n",
    "        description = content.find(\"div\", {\"class\": \"description\"})\n",
    "\n",
    "        if description is not None:\n",
    "            description = description.text\n",
    "        \n",
    "        document_published = (\n",
    "            content.find(\"span\", {\"class\": \"documentPublished\"}).text.strip()\n",
    "            .replace(\"publicado\", \"\").strip().replace(\",\", \"\")\n",
    "        )\n",
    "        document_published = datetime.datetime.strptime(document_published, \"%d/%m/%Y %Hh%M\")\n",
    "\n",
    "        document_modified = content.find(\"span\", {\"class\": \"documentModified\"})\n",
    "        \n",
    "        if document_modified is not None:\n",
    "            document_modified = (\n",
    "                document_modified.text.strip().replace(u\"última modificação\", \"\")\n",
    "                .strip().replace(\",\", \"\")\n",
    "            )\n",
    "\n",
    "            document_modified = datetime.datetime.strptime(document_modified, \"%d/%m/%Y %Hh%M\")\n",
    "\n",
    "        texto = content.find(\"div\", {\"id\": \"parent-fieldname-text\"}).text\n",
    "\n",
    "        tags = content.find(\"div\", {\"id\": \"category\"})\n",
    "        if tags is not None:\n",
    "            tags = [t.text for t in tags.find_all(\"a\")]\n",
    "        else:\n",
    "            tags = []\n",
    "\n",
    "        assuntos = content.find(\"div\", {\"id\": \"category-vcge\"})\n",
    "        if assuntos is not None:\n",
    "            assuntos = [a.text for a in assuntos.find_all(\"a\")]\n",
    "        else:\n",
    "            assuntos = []\n",
    "        \n",
    "        d = {\n",
    "            'titulo': titulo,\n",
    "            'descricao': description,\n",
    "            'data_publicacao': document_published,\n",
    "            'data_modificacao': document_modified,\n",
    "            'texto': texto,\n",
    "            'tags': tags,\n",
    "            'assuntos': assuntos,\n",
    "            'url': url\n",
    "        }\n",
    "        return d\n",
    "    \n",
    "    except Exception as e:\n",
    "        print \"Erro ao baixar: {0} - {1}\".format(url, e)\n",
    "        return None"
   ]
  },
  {
   "cell_type": "code",
   "execution_count": null,
   "metadata": {
    "collapsed": true
   },
   "outputs": [],
   "source": []
  },
  {
   "cell_type": "code",
   "execution_count": null,
   "metadata": {
    "collapsed": false
   },
   "outputs": [],
   "source": [
    "discursos = []\n",
    "for url in lista_links:\n",
    "    discurso = baixar_discurso(url)\n",
    "    if discurso is not None:\n",
    "        discursos.append(discurso)"
   ]
  },
  {
   "cell_type": "code",
   "execution_count": null,
   "metadata": {
    "collapsed": false
   },
   "outputs": [],
   "source": []
  }
 ],
 "metadata": {
  "kernelspec": {
   "display_name": "Python 2",
   "language": "python",
   "name": "python2"
  },
  "language_info": {
   "codemirror_mode": {
    "name": "ipython",
    "version": 2
   },
   "file_extension": ".py",
   "mimetype": "text/x-python",
   "name": "python",
   "nbconvert_exporter": "python",
   "pygments_lexer": "ipython2",
   "version": "2.7.11"
  }
 },
 "nbformat": 4,
 "nbformat_minor": 0
}
